{
 "cells": [
  {
   "cell_type": "code",
   "execution_count": 1,
   "id": "06a4211d",
   "metadata": {},
   "outputs": [],
   "source": [
    "#Import random module\n",
    "import random"
   ]
  },
  {
   "cell_type": "code",
   "execution_count": 2,
   "id": "37f2c9c8",
   "metadata": {},
   "outputs": [
    {
     "data": {
      "text/plain": [
       "-90"
      ]
     },
     "execution_count": 2,
     "metadata": {},
     "output_type": "execute_result"
    }
   ],
   "source": [
    "#random integer between -90 and 90\n",
    "random.randint(-90, 90)"
   ]
  },
  {
   "cell_type": "code",
   "execution_count": 3,
   "id": "5481d202",
   "metadata": {},
   "outputs": [
    {
     "data": {
      "text/plain": [
       "0.8514400575648127"
      ]
     },
     "execution_count": 3,
     "metadata": {},
     "output_type": "execute_result"
    }
   ],
   "source": [
    "#random floating point decimal between 0 and 1\n",
    "random.random()"
   ]
  },
  {
   "cell_type": "code",
   "execution_count": 4,
   "id": "1d4b1a76",
   "metadata": {},
   "outputs": [
    {
     "data": {
      "text/plain": [
       "55.029035552743096"
      ]
     },
     "execution_count": 4,
     "metadata": {},
     "output_type": "execute_result"
    }
   ],
   "source": [
    "#combine random integer and randome floating point decimal\n",
    "random_number = random.randint(-90, 89) + random.random()\n",
    "random_number"
   ]
  },
  {
   "cell_type": "code",
   "execution_count": 5,
   "id": "c2ecf6cb",
   "metadata": {},
   "outputs": [
    {
     "data": {
      "text/plain": [
       "[2.4385786078544807,\n",
       " -35.400031827496434,\n",
       " -87.14017214618991,\n",
       " -58.37412936067516,\n",
       " -35.64245927658967,\n",
       " -61.54688355277285,\n",
       " -10.196282867111421,\n",
       " 36.34682397741586,\n",
       " -46.40681373102205,\n",
       " 22.584852611005925]"
      ]
     },
     "execution_count": 5,
     "metadata": {},
     "output_type": "execute_result"
    }
   ],
   "source": [
    "#Generate multiple random numbers\n",
    "x=1\n",
    "latitudes = []\n",
    "while x < 11:\n",
    "    random_lat = random.randint(-90, 89) + random.random()\n",
    "    latitudes.append(random_lat)\n",
    "    x += 1\n",
    "\n",
    "latitudes"
   ]
  },
  {
   "cell_type": "code",
   "execution_count": 6,
   "id": "c034e39c",
   "metadata": {},
   "outputs": [
    {
     "data": {
      "text/plain": [
       "-10"
      ]
     },
     "execution_count": 6,
     "metadata": {},
     "output_type": "execute_result"
    }
   ],
   "source": [
    "#generate random integer between -90 and 90 with step of 1\n",
    "random.randrange(-90, 90, step=1)"
   ]
  },
  {
   "cell_type": "code",
   "execution_count": 7,
   "id": "ef0814f9",
   "metadata": {},
   "outputs": [
    {
     "data": {
      "text/plain": [
       "77.02209733564086"
      ]
     },
     "execution_count": 7,
     "metadata": {},
     "output_type": "execute_result"
    }
   ],
   "source": [
    "#generate a random floating point decimal between -90 and 90 \n",
    "random.uniform(-90,90)"
   ]
  },
  {
   "cell_type": "code",
   "execution_count": 8,
   "id": "29263267",
   "metadata": {},
   "outputs": [],
   "source": [
    "#import NumPy module\n",
    "import numpy as np"
   ]
  },
  {
   "cell_type": "code",
   "execution_count": 9,
   "id": "019dec7b",
   "metadata": {},
   "outputs": [
    {
     "data": {
      "text/plain": [
       "-20.064788019788224"
      ]
     },
     "execution_count": 9,
     "metadata": {},
     "output_type": "execute_result"
    }
   ],
   "source": [
    "#generate random floating point decimal betweeen -90 and 90 using NumPy\n",
    "np.random.uniform(-90.000, 90.000)"
   ]
  },
  {
   "cell_type": "code",
   "execution_count": 10,
   "id": "ce2469a6",
   "metadata": {},
   "outputs": [
    {
     "data": {
      "text/plain": [
       "array([-81.48684544, -10.56109003,  40.68259314,  52.7167452 ,\n",
       "       -63.19986328,  25.82585873,   4.41288795, -40.16632024,\n",
       "        16.63829547,  89.37987857,  81.84012336,  67.41050888,\n",
       "       -83.04652692,  19.00593568,   8.67719254,  67.15644779,\n",
       "       -14.99207714,  16.26661374, -70.3784042 , -48.56936305,\n",
       "       -48.47945397,  29.07107272,  43.35660986,  55.9959573 ,\n",
       "        69.51149362,  -8.17214621, -26.37482208, -76.28382985,\n",
       "       -67.59344483,  31.13360648, -30.62822656,  44.77261296,\n",
       "        83.85269406, -26.75285566,  17.95725365,  37.93746787,\n",
       "        78.49800531,   5.3441274 , -66.01317989, -32.5194235 ,\n",
       "        86.47817196, -48.22569054, -67.44573672, -63.3882421 ,\n",
       "        85.59217202, -41.6348106 , -65.12241073,  67.35276011,\n",
       "        45.03260311,  17.62263722])"
      ]
     },
     "execution_count": 10,
     "metadata": {},
     "output_type": "execute_result"
    }
   ],
   "source": [
    "#generate multiple random floating point decimal betweeen -90 and 90 using NumPy\n",
    "np.random.uniform(-90.000, 90.000, size=50)"
   ]
  },
  {
   "cell_type": "code",
   "execution_count": 11,
   "id": "d290614d",
   "metadata": {},
   "outputs": [],
   "source": [
    "#import timeit module\n",
    "import timeit"
   ]
  },
  {
   "cell_type": "code",
   "execution_count": 12,
   "id": "a8f11954",
   "metadata": {},
   "outputs": [
    {
     "name": "stdout",
     "output_type": "stream",
     "text": [
      "13.5 µs ± 87.1 ns per loop (mean ± std. dev. of 7 runs, 100000 loops each)\n"
     ]
    }
   ],
   "source": [
    "#determine runtime of numpy random function for 1500 returns\n",
    "%timeit np.random.uniform(-90.000, 90.000, size=1500)"
   ]
  },
  {
   "cell_type": "code",
   "execution_count": 13,
   "id": "c99f8ab0",
   "metadata": {},
   "outputs": [
    {
     "name": "stdout",
     "output_type": "stream",
     "text": [
      "2.2 ms ± 32.2 µs per loop (mean ± std. dev. of 7 runs, 100 loops each)\n"
     ]
    }
   ],
   "source": [
    "#determine runtime of while loop for 1500 returns\n",
    "def latitudes(size):\n",
    "    latitudes = []\n",
    "    x = 0\n",
    "    while x < (size):\n",
    "        random_lat = random.randint(-90, 90) + random.random()\n",
    "        latitudes.append(random_lat)\n",
    "        x += 1\n",
    "    return latitudes\n",
    "# Call the function with 1500.\n",
    "%timeit latitudes(1500)"
   ]
  },
  {
   "cell_type": "code",
   "execution_count": null,
   "id": "ee961912",
   "metadata": {},
   "outputs": [],
   "source": []
  }
 ],
 "metadata": {
  "kernelspec": {
   "display_name": "PythonData",
   "language": "python",
   "name": "pythondata"
  },
  "language_info": {
   "codemirror_mode": {
    "name": "ipython",
    "version": 3
   },
   "file_extension": ".py",
   "mimetype": "text/x-python",
   "name": "python",
   "nbconvert_exporter": "python",
   "pygments_lexer": "ipython3",
   "version": "3.7.10"
  }
 },
 "nbformat": 4,
 "nbformat_minor": 5
}
